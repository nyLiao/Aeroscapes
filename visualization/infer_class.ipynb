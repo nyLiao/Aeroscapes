{
 "cells": [
  {
   "cell_type": "code",
   "execution_count": 1,
   "metadata": {},
   "outputs": [
    {
     "name": "stderr",
     "output_type": "stream",
     "text": [
      "/home/nliao/miniconda3/envs/cvtorch/lib/python3.10/site-packages/tqdm/auto.py:22: TqdmWarning: IProgress not found. Please update jupyter and ipywidgets. See https://ipywidgets.readthedocs.io/en/stable/user_install.html\n",
      "  from .autonotebook import tqdm as notebook_tqdm\n"
     ]
    }
   ],
   "source": [
    "import os\n",
    "import sys\n",
    "\n",
    "cwd = os.getcwd()\n",
    "pwd = cwd[:cwd.rfind('/')]\n",
    "sys.path.append(pwd)\n",
    "\n",
    "import numpy as np\n",
    "import sklearn.metrics\n",
    "from sankey import sankey\n",
    "import matplotlib.pyplot as plt\n",
    "import torch\n",
    "import torchvision.transforms as transforms\n",
    "\n",
    "from model import *\n",
    "from logger import Logger, ModelLogger\n",
    "from dataloader import DatasetClean, DatasetVal"
   ]
  },
  {
   "cell_type": "code",
   "execution_count": 7,
   "metadata": {},
   "outputs": [],
   "source": [
    "issave = True"
   ]
  },
  {
   "cell_type": "code",
   "execution_count": 15,
   "metadata": {},
   "outputs": [],
   "source": [
    "# Dataset\n",
    "data_path = '../data/'\n",
    "cln_dataset = DatasetClean(data_path)\n",
    "labs    = ['bckgrnd', 'person', 'bike', 'car', 'drone', 'boat', 'animal', 'obstacle', 'constrn', 'plant', 'road', 'sky']\n",
    "labbak  = ['person', 'bike', 'car', 'drone', 'boat', 'animal', 'obstacle', 'constrn', 'plant', 'road', 'sky', 'bckgrnd']\n",
    "cmap = np.array([\n",
    "        #  R,   G,   B\n",
    "        (  0,   0,   0),  #  Background\n",
    "        # (192, 128, 128),  #  Person\n",
    "        (255, 127,  14),  #  Person\n",
    "        (  0, 128,   0),  #  Bike\n",
    "        # (128, 128, 128),  #  Car\n",
    "        (152,  78, 163),  #  Car\n",
    "        (128,   0,   0),  #  Drone\n",
    "        (  0,   0, 128),  #  Boat\n",
    "        (192,   0, 128),  #  Animal\n",
    "        (192,   0,   0),  #  Obstacle\n",
    "        (192, 128,   0),  #  Construction\n",
    "        (  0,  64,   0),  #  Plant\n",
    "        (128, 128,   0),  #  Road\n",
    "        (  0, 128, 128)   #  Sky\n",
    "    ])\n",
    "cdict = {labs[i]: np.append(cmap[i] / 255, 1.) for i in range(12)}\n",
    "cdict['bckgrnd'] = np.array((128/255, 128/255, 128/255, 1.))"
   ]
  },
  {
   "cell_type": "code",
   "execution_count": 23,
   "metadata": {},
   "outputs": [],
   "source": [
    "mname = 'deeplabv3plus'\n",
    "lname = 'tversky_0.70_0.30_1.00'\n",
    "flag = '1118'\n",
    "flag_run = \"{}_{}\".format(lname, flag)\n",
    "logger = Logger(save_path='../saved_models/', prj_name=mname, flag_run=flag_run)\n",
    "device = torch.device(\"cuda\" if torch.cuda.is_available() else \"cpu\")\n",
    "\n",
    "def restore_model(mname, logger):\n",
    "    assert logger.path_existed, f\"Path {logger.dir_save} not found\"\n",
    "    model_logger = ModelLogger(logger, state_only=True)\n",
    "    model_logger.metric_name = 'iou'\n",
    "\n",
    "    # ===== Model =====\n",
    "    model = get_model(mname)\n",
    "    model = model_logger.load_model('best', model=model).to(device)\n",
    "    model.eval()\n",
    "    return model"
   ]
  },
  {
   "cell_type": "code",
   "execution_count": 24,
   "metadata": {},
   "outputs": [],
   "source": [
    "# load dataset and model\n",
    "val_dataset = DatasetVal('../data/')\n",
    "val_dataloader = torch.utils.data.DataLoader(val_dataset, batch_size=2, shuffle=False, num_workers=1)\n",
    "cln_dataloader = torch.utils.data.DataLoader(cln_dataset, batch_size=2, shuffle=False, num_workers=1)\n",
    "model = restore_model(mname, logger)"
   ]
  },
  {
   "cell_type": "markdown",
   "metadata": {},
   "source": [
    "## Confusion"
   ]
  },
  {
   "cell_type": "markdown",
   "metadata": {},
   "source": [
    "### Few images"
   ]
  },
  {
   "cell_type": "code",
   "execution_count": 8,
   "metadata": {},
   "outputs": [],
   "source": [
    "# get image\n",
    "idx = [222, 333, 444, 555]\n",
    "xs, ys, y0s = [], [], []\n",
    "for i in idx:\n",
    "    x, y = val_dataset[i]\n",
    "    _, y0 = cln_dataset[i]\n",
    "    xs.append(x)\n",
    "    ys.append(y)\n",
    "    y0s.append(torch.Tensor(y0))\n",
    "xs = torch.stack(xs)\n",
    "ys = torch.stack(ys)\n",
    "y0s = torch.stack(y0s)\n",
    "\n",
    "# get prediction\n",
    "with torch.no_grad():\n",
    "    pred_mask = model(xs.to(device))\n",
    "pred_mask = torch.softmax(pred_mask, dim=1)\n",
    "pred = torch.argmax(pred_mask, dim=1)\n",
    "pred = pred.cpu()\n",
    "# transfer to label map\n",
    "h, w = pred.shape[1:]\n",
    "pred = transforms.functional.crop(pred, 8, 0, h-16, w)"
   ]
  },
  {
   "cell_type": "markdown",
   "metadata": {},
   "source": [
    "### Full dataset"
   ]
  },
  {
   "cell_type": "code",
   "execution_count": 6,
   "metadata": {},
   "outputs": [],
   "source": [
    "cfms = np.load(logger.path_join('conf_mat.npy'))"
   ]
  },
  {
   "cell_type": "code",
   "execution_count": 25,
   "metadata": {},
   "outputs": [],
   "source": [
    "cfms = np.zeros((12, 12), dtype=np.float64)\n",
    "\n",
    "for batch_i, (xy_val, xy_cln) in enumerate(zip(val_dataloader, cln_dataloader)):\n",
    "    # get prediction\n",
    "    with torch.no_grad():\n",
    "        xs, _ = xy_val\n",
    "        pred_mask = model(xs.to(device))\n",
    "    pred_mask = torch.softmax(pred_mask, dim=1)\n",
    "    y_pred = torch.argmax(pred_mask, dim=1)\n",
    "    y_pred = y_pred.cpu()\n",
    "    # transfer to label map\n",
    "    h, w = y_pred.shape[1:]\n",
    "    y_pred = transforms.functional.crop(y_pred, 8, 0, h-16, w)\n",
    "    # get true label\n",
    "    _, y_true = xy_cln\n",
    "\n",
    "    y_pred = y_pred.reshape(-1).numpy()\n",
    "    y_true = y_true.reshape(-1).numpy()\n",
    "    cfm = sklearn.metrics.confusion_matrix(y_true, y_pred, labels=range(12))\n",
    "    cfms += cfm\n",
    "\n",
    "np.save(logger.path_join('conf_mat.npy'), cfms)"
   ]
  },
  {
   "cell_type": "code",
   "execution_count": 12,
   "metadata": {},
   "outputs": [],
   "source": [
    "def plot_confmat(cfm_rn):\n",
    "    fig, ax = plt.subplots(figsize=(8, 5))\n",
    "\n",
    "    img = plt.imshow(cfm_rn, interpolation='nearest', \n",
    "                    cmap=plt.cm.Blues, vmin=0.0, vmax=1.0)\n",
    "    # set labels\n",
    "    n_cls = cfm_rn.shape[0]\n",
    "    fig.colorbar(img, ax=ax, fraction=0.046, pad=0.04)\n",
    "    labs = ['bckgrnd', 'person', 'bike', 'car', 'drone', 'boat', 'animal', 'obstacle', 'constrn', 'plant', 'road', 'sky']\n",
    "    ax.set(yticks=np.arange(n_cls), yticklabels=labs,\n",
    "            ylabel='True Label', xlabel='Predicted Label')\n",
    "    ax.set_xticks(np.arange(n_cls), labs, rotation='vertical')\n",
    "\n",
    "    fig.tight_layout()\n",
    "    plt.show()\n",
    "    return fig"
   ]
  },
  {
   "cell_type": "code",
   "execution_count": 26,
   "metadata": {},
   "outputs": [],
   "source": [
    "cfm_rn = cfms / cfms.sum(axis=1, keepdims=True)\n",
    "fig = plot_confmat(cfm_rn)\n",
    "if issave:\n",
    "    fig.savefig('./figs/infer_conf_tversky.pdf', bbox_inches='tight')"
   ]
  },
  {
   "cell_type": "markdown",
   "metadata": {},
   "source": [
    "## Sankey"
   ]
  },
  {
   "cell_type": "code",
   "execution_count": 27,
   "metadata": {},
   "outputs": [
    {
     "data": {
      "text/plain": [
       "<Figure size 800x500 with 1 Axes>"
      ]
     },
     "execution_count": 27,
     "metadata": {},
     "output_type": "execute_result"
    }
   ],
   "source": [
    "row, col = [], []\n",
    "cfm_err = np.zeros(12*11)\n",
    "for r in range(12):\n",
    "    for c in range(12):\n",
    "        if r != c:\n",
    "            row.append(labs[r])\n",
    "            col.append(labs[c])\n",
    "            cfm_err[r*11+c] = cfms[r, c]\n",
    "\n",
    "fig = sankey(left=row, right=col, leftWeight=cfm_err, colorDict=cdict, aspect=10,\n",
    "             leftLabels=list(reversed(labbak)), rightLabels=list(reversed(labbak)), fontsize=8)\n",
    "if issave:\n",
    "    # fig.savefig(logger.path_join('sankey.pdf'), bbox_inches='tight')\n",
    "    fig.savefig('./figs/infer_sankey_tversky.pdf', bbox_inches='tight')\n",
    "fig"
   ]
  },
  {
   "cell_type": "code",
   "execution_count": null,
   "metadata": {},
   "outputs": [],
   "source": []
  }
 ],
 "metadata": {
  "kernelspec": {
   "display_name": "Python 3.10.6 ('cvtorch')",
   "language": "python",
   "name": "python3"
  },
  "language_info": {
   "codemirror_mode": {
    "name": "ipython",
    "version": 3
   },
   "file_extension": ".py",
   "mimetype": "text/x-python",
   "name": "python",
   "nbconvert_exporter": "python",
   "pygments_lexer": "ipython3",
   "version": "3.10.6"
  },
  "orig_nbformat": 4,
  "vscode": {
   "interpreter": {
    "hash": "b26e4677d92ed6aed28898b610174e7e899be7c998b12f1bc50b84aae23a360c"
   }
  }
 },
 "nbformat": 4,
 "nbformat_minor": 2
}
